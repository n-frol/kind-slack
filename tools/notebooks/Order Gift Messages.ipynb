{
 "cells": [
  {
   "cell_type": "code",
   "execution_count": 12,
   "metadata": {},
   "outputs": [],
   "source": [
    "import csv\n",
    "from lxml import etree as ET\n",
    "from lxml.builder import ElementMaker\n",
    "import re\n",
    "import os\n",
    "import requests\n",
    "import json\n",
    "import datetime\n",
    "from phpserialize import *\n",
    "import secrets\n",
    "import string\n",
    "import hashlib\n",
    "import calendar"
   ]
  },
  {
   "cell_type": "code",
   "execution_count": 13,
   "metadata": {},
   "outputs": [],
   "source": [
    "order_reader = csv.DictReader(open('../data/20190225orderhistory.csv', 'rt', encoding=\"utf-8-sig\"))\n",
    "dict_orders = {}\n",
    "for line in order_reader:\n",
    "    dict_orders[line[\"gift_message_id\"]] = {\n",
    "        \"order_no\": line[\"order_no\"]\n",
    "    }"
   ]
  },
  {
   "cell_type": "code",
   "execution_count": 15,
   "metadata": {},
   "outputs": [],
   "source": [
    "reader = csv.DictReader(open('../data/20190225giftmessageinfo.csv', 'rt', encoding=\"utf-8-sig\"))\n",
    "GIFT_MESSAGES = []\n",
    "\n",
    "for line in reader:\n",
    "    gift_message_id = line[\"gift_message_id\"]\n",
    "    sender = line[\"sender\"]\n",
    "    recipient = line[\"recipient\"]\n",
    "    message = line[\"message\"]\n",
    "    \n",
    "    if gift_message_id in dict_orders:\n",
    "        GIFT_MESSAGES.append({\n",
    "            \"order_no\": dict_orders[gift_message_id][\"order_no\"],\n",
    "            \"sender\": sender,\n",
    "            \"recipient\": recipient,\n",
    "            \"message\": message\n",
    "        })"
   ]
  },
  {
   "cell_type": "code",
   "execution_count": 16,
   "metadata": {},
   "outputs": [],
   "source": [
    "with open('../data/giftmessages.csv', 'w') as csv_file:\n",
    "    writer = csv.writer(csv_file)\n",
    "    for data in GIFT_MESSAGES:\n",
    "        writer.writerow([\n",
    "            data[\"order_no\"], \n",
    "            data[\"sender\"],\n",
    "            data[\"recipient\"],\n",
    "            data[\"message\"]\n",
    "        ])"
   ]
  },
  {
   "cell_type": "code",
   "execution_count": null,
   "metadata": {},
   "outputs": [],
   "source": []
  }
 ],
 "metadata": {
  "kernelspec": {
   "display_name": "Python 3",
   "language": "python",
   "name": "python3"
  },
  "language_info": {
   "codemirror_mode": {
    "name": "ipython",
    "version": 3
   },
   "file_extension": ".py",
   "mimetype": "text/x-python",
   "name": "python",
   "nbconvert_exporter": "python",
   "pygments_lexer": "ipython3",
   "version": "3.6.5"
  }
 },
 "nbformat": 4,
 "nbformat_minor": 2
}
