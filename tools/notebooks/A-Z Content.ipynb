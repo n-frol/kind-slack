{
 "cells": [
  {
   "cell_type": "code",
   "execution_count": 69,
   "metadata": {},
   "outputs": [],
   "source": [
    "import requests\n",
    "from bs4 import BeautifulSoup\n",
    "import string\n",
    "import re\n",
    "import os\n",
    "from lxml import etree as ET\n",
    "from lxml.builder import ElementMaker"
   ]
  },
  {
   "cell_type": "code",
   "execution_count": 3,
   "metadata": {},
   "outputs": [],
   "source": [
    "request_url = 'https://www.kindsnacks.com/ingredients-a-z'\n",
    "response = requests.get(request_url)"
   ]
  },
  {
   "cell_type": "code",
   "execution_count": 52,
   "metadata": {},
   "outputs": [],
   "source": [
    "NAME_BAD_CHARS = re.compile(r'([^a-zA-Z0-9_ -])')\n",
    "\n",
    "def clean_name(name, camel_case = False):\n",
    "    name = NAME_BAD_CHARS.sub('', name)\n",
    "    if camel_case == False:\n",
    "        return name.replace('  ', ' ').replace(' ', '-').lower()\n",
    "    else:\n",
    "        name = name.title().replace(' ', '').replace('-', '').replace('_', '')\n",
    "        return name[0].lower() + name[1:]"
   ]
  },
  {
   "cell_type": "code",
   "execution_count": 40,
   "metadata": {},
   "outputs": [],
   "source": [
    "alpha_list = list(string.ascii_lowercase)"
   ]
  },
  {
   "cell_type": "code",
   "execution_count": 60,
   "metadata": {},
   "outputs": [],
   "source": [
    "E = ElementMaker(namespace=\"http://www.demandware.com/xml/impex/library/2006-10-31\",\n",
    "                 nsmap={None : \"http://www.demandware.com/xml/impex/library/2006-10-31\"})"
   ]
  },
  {
   "cell_type": "code",
   "execution_count": 78,
   "metadata": {},
   "outputs": [],
   "source": [
    "soup = BeautifulSoup(response.text, 'html.parser')\n",
    "\n",
    "FOLDERS = []\n",
    "CONTENT = []\n",
    "\n",
    "for count, alpha in enumerate(alpha_list):\n",
    "    alpha_soup = soup.find(id=alpha)\n",
    "    \n",
    "    if alpha_soup:\n",
    "        folder_id = 'ingredients-' + alpha_soup.h1.string\n",
    "        folder_name = alpha_soup.h1.string\n",
    "        FOLDERS.append(\n",
    "            E(\"folder\",\n",
    "              E(\"display-name\", str(folder_name)),\n",
    "              E(\"online-flag\", \"true\"),\n",
    "              E(\"parent\", \"ingredients-a-z\"),\n",
    "              E(\"position\", str(count)),\n",
    "              **{\"folder-id\": str(folder_id)}\n",
    "            )\n",
    "        )\n",
    "\n",
    "        for ingredient_name in alpha_soup.find_all('h3'):\n",
    "            ingredient_name = ingredient_name.string\n",
    "            ingredient_id = clean_name(ingredient_name)\n",
    "            ingredient_body = ingredient_name.findNext('p').string\n",
    "            \n",
    "            CONTENT.append(\n",
    "                E(\"content\",\n",
    "                  E(\"display-name\", str(ingredient_name)),\n",
    "                  E(\"online-flag\", \"true\"),\n",
    "                  E(\"searchable-flag\", \"false\"),\n",
    "                  E(\"custom-attributes\",\n",
    "                    E(\"custom-attribute\",\n",
    "                     E(\"value\", str(ingredient_body)),\n",
    "                      **{\"attribute-id\": \"body\"}\n",
    "                     )\n",
    "                   ),\n",
    "                  E(\"folder-links\",\n",
    "                   E(\"classification-link\",\n",
    "                    **{\"folder-id\": folder_id})\n",
    "                   ),\n",
    "                  **{\"content-id\": str(ingredient_id)}\n",
    "                 )\n",
    "            )\n",
    "            \n",
    "INGREDIENTS = E(\"library\",\n",
    "                E(\"folder\",\n",
    "                 **{\"folder-id\": \"ingredients\", \"mode\": \"delete\"}),\n",
    "                E(\"folder\",\n",
    "                 E(\"display-name\", \"Ingredients A-Z\"),\n",
    "                  E(\"description\", \"take a look at everything we put in our snacks\"),\n",
    "                  E(\"online-flag\", \"true\"),\n",
    "                  E(\"template\", \"rendering/folder/glossary\"),\n",
    "                  **{\"folder-id\": \"ingredients-a-z\"}\n",
    "                 ),\n",
    "                *FOLDERS,\n",
    "                *CONTENT,\n",
    "                **{\"library-id\": \"KINDSnacksSharedLibrary\"}\n",
    "               )"
   ]
  },
  {
   "cell_type": "code",
   "execution_count": 79,
   "metadata": {},
   "outputs": [],
   "source": [
    "schema = ET.XMLSchema(file=\"../schemas/library.xsd\")\n",
    "if not schema.validate(INGREDIENTS):\n",
    "    print(schema.error_log)\n",
    "\n",
    "with open(os.path.join(\"../data/ingredients.xml\"), 'wb') as f:\n",
    "    str_xml = ET.tostring(INGREDIENTS, xml_declaration=True, pretty_print=True, encoding=\"UTF-8\")\n",
    "    f.write(str_xml)"
   ]
  },
  {
   "cell_type": "code",
   "execution_count": null,
   "metadata": {},
   "outputs": [],
   "source": []
  }
 ],
 "metadata": {
  "kernelspec": {
   "display_name": "Python 3",
   "language": "python",
   "name": "python3"
  },
  "language_info": {
   "codemirror_mode": {
    "name": "ipython",
    "version": 3
   },
   "file_extension": ".py",
   "mimetype": "text/x-python",
   "name": "python",
   "nbconvert_exporter": "python",
   "pygments_lexer": "ipython3",
   "version": "3.6.5"
  }
 },
 "nbformat": 4,
 "nbformat_minor": 2
}
