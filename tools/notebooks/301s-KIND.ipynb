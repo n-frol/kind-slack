{
 "cells": [
  {
   "cell_type": "code",
   "execution_count": 15,
   "metadata": {},
   "outputs": [],
   "source": [
    "import csv\n",
    "import requests\n",
    "import re\n",
    "from lxml import etree as ET"
   ]
  },
  {
   "cell_type": "code",
   "execution_count": 16,
   "metadata": {},
   "outputs": [],
   "source": [
    "products = csv.DictReader(open('../data/product301.csv', 'rt', encoding=\"utf-8-sig\"))\n",
    "PRODUCTS = []\n",
    "for product in products:\n",
    "    magento_url = product['magento_url']\n",
    "    product_id = product['new_product_id']\n",
    "    PRODUCTS.append('**' + magento_url + ' p,,,Product-Show,,pid,' + product_id)\n",
    "    PRODUCTS.append('**' + magento_url + '* p,,,Product-Show,,pid,' + product_id)\n",
    "    PRODUCTS.append('**' + magento_url + '?** p,,,Product-Show,,pid,' + product_id + ',{_querystring}')"
   ]
  },
  {
   "cell_type": "code",
   "execution_count": 17,
   "metadata": {},
   "outputs": [],
   "source": [
    "with open('../data/product_static_redirects.csv', 'w') as csv_file:\n",
    "    writer = csv.writer(csv_file)\n",
    "    for redirect in PRODUCTS:\n",
    "        writer.writerow([redirect])"
   ]
  },
  {
   "cell_type": "code",
   "execution_count": 18,
   "metadata": {},
   "outputs": [],
   "source": [
    "categories = csv.DictReader(open('../data/category301.csv', 'rt', encoding=\"utf-8-sig\"))\n",
    "CATEGORIES = []\n",
    "for category in categories:\n",
    "    magento_url = category['magento_url'].replace('https://www.kindsnacks.com', '')\n",
    "    category_id = category['new_cat_id']\n",
    "    CATEGORIES.append('**' + magento_url + ' p,,,Search-Show,,cgid,' + category_id)\n",
    "    CATEGORIES.append('**' + magento_url + '* p,,,Search-Show,,cgid,' + category_id)\n",
    "    CATEGORIES.append('**' + magento_url + '?** p,,,Search-Show,,cgid,' + category_id + ',{_querystring}')"
   ]
  },
  {
   "cell_type": "code",
   "execution_count": 19,
   "metadata": {},
   "outputs": [],
   "source": [
    "with open('../data/category_static_redirects.csv', 'w') as csv_file:\n",
    "    writer = csv.writer(csv_file)\n",
    "    for redirect in CATEGORIES:\n",
    "        writer.writerow([redirect])"
   ]
  },
  {
   "cell_type": "code",
   "execution_count": 20,
   "metadata": {},
   "outputs": [],
   "source": [
    "contents = csv.DictReader(open('../data/content301.csv', 'rt', encoding=\"utf-8-sig\"))\n",
    "CONTENT = []\n",
    "REMAINING = []\n",
    "for content in contents:\n",
    "    magento_url = content['magento_url'].replace('https://www.kindsnacks.com', '')\n",
    "    sfcc_id = content['sfcc_id']\n",
    "    sfcc_id_type = content['sfcc_id_type']\n",
    "    destination_url = content['destination_url']\n",
    "    \n",
    "    if sfcc_id_type == 'content asset':\n",
    "        CONTENT.append('**' + magento_url + ' p,,,Page-Show,,cid,' + sfcc_id)\n",
    "        CONTENT.append('**' + magento_url + '* p,,,Page-Show,,cid,' + sfcc_id)\n",
    "        CONTENT.append('**' + magento_url + '?** p,,,Page-Show,,cid,' + sfcc_id + ',{_querystring}')\n",
    "    elif sfcc_id_type == 'category':\n",
    "        CONTENT.append('**' + magento_url + ' p,,,Search-Show,,cgid,' + sfcc_id)\n",
    "        CONTENT.append('**' + magento_url + '* p,,,Search-Show,,cgid,' + sfcc_id)\n",
    "        CONTENT.append('**' + magento_url + '?** p,,,Search-Show,,cgid,' + sfcc_id + ',{_querystring}')\n",
    "    elif sfcc_id_type == 'folder':\n",
    "        CONTENT.append('**' + magento_url + ' p,,,Search-ShowContent,,fdid,' + sfcc_id)\n",
    "        CONTENT.append('**' + magento_url + '* p,,,Search-ShowContent,,fdid,' + sfcc_id)\n",
    "        CONTENT.append('**' + magento_url + '?** p,,,Search-ShowContent,,fdid,' + sfcc_id + ',{_querystring}')\n",
    "    elif sfcc_id_type == 'product':\n",
    "        CONTENT.append('**' + magento_url + ' p,,,Product-Show,,pid,' + sfcc_id)\n",
    "        CONTENT.append('**' + magento_url + '* p,,,Product-Show,,pid,' + sfcc_id)\n",
    "        CONTENT.append('**' + magento_url + '?** p,,,Product-Show,,pid,' + sfcc_id + ',{_querystring}')\n",
    "    elif sfcc_id_type == 'N/A':\n",
    "        if destination_url != 'N/A':\n",
    "            if destination_url == 'https://www.kindsnacks.com/':\n",
    "                CONTENT.append('**' + magento_url + ' p,,,Home-Show,')\n",
    "                CONTENT.append('**' + magento_url + '* p,,,Home-Show,')\n",
    "                CONTENT.append('**' + magento_url + '?** p,,,Home-Show,' + '{_querystring}')\n",
    "            else:\n",
    "                REMAINING.append({\n",
    "                    \"magento_url\": magento_url,\n",
    "                    \"sfcc_id\": sfcc_id,\n",
    "                    \"sfcc_id_type\": sfcc_id_type,\n",
    "                    \"destination_url\": destination_url\n",
    "                })\n",
    "    else:\n",
    "        REMAINING.append({\n",
    "            \"magento_url\": magento_url,\n",
    "            \"sfcc_id\": sfcc_id,\n",
    "            \"sfcc_id_type\": sfcc_id_type,\n",
    "            \"destination_url\": destination_url\n",
    "        })                "
   ]
  },
  {
   "cell_type": "code",
   "execution_count": 21,
   "metadata": {},
   "outputs": [],
   "source": [
    "with open('../data/content_static_redirects.csv', 'w') as csv_file:\n",
    "    writer = csv.writer(csv_file)\n",
    "    for redirect in CONTENT:\n",
    "        writer.writerow([redirect])"
   ]
  },
  {
   "cell_type": "code",
   "execution_count": null,
   "metadata": {},
   "outputs": [],
   "source": []
  }
 ],
 "metadata": {
  "kernelspec": {
   "display_name": "Python 3",
   "language": "python",
   "name": "python3"
  },
  "language_info": {
   "codemirror_mode": {
    "name": "ipython",
    "version": 3
   },
   "file_extension": ".py",
   "mimetype": "text/x-python",
   "name": "python",
   "nbconvert_exporter": "python",
   "pygments_lexer": "ipython3",
   "version": "3.6.5"
  }
 },
 "nbformat": 4,
 "nbformat_minor": 2
}
