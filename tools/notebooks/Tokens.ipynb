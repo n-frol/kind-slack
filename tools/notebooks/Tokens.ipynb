{
 "cells": [
  {
   "cell_type": "code",
   "execution_count": 31,
   "metadata": {},
   "outputs": [],
   "source": [
    "import csv\n",
    "from lxml import etree as ET\n",
    "from lxml.builder import ElementMaker\n",
    "import re\n",
    "import os\n",
    "import requests\n",
    "import json\n",
    "import datetime\n",
    "from phpserialize import *\n",
    "import secrets\n",
    "import string\n",
    "import hashlib\n",
    "import calendar"
   ]
  },
  {
   "cell_type": "code",
   "execution_count": 32,
   "metadata": {},
   "outputs": [],
   "source": [
    "address_reader = csv.DictReader(open('../data/02222019customeraddresses.csv', 'rt', encoding=\"utf-8-sig\"))\n",
    "dict_addresses = {}\n",
    "for line in address_reader:\n",
    "    dict_addresses[line[\"entity_id\"]] = {\n",
    "        \"customer_id\": line[\"customer_id\"],\n",
    "        \"firstname\": line[\"firstname\"],\n",
    "        \"lastname\": line[\"lastname\"],\n",
    "        \"street\": line[\"address_one\"],\n",
    "        \"city\": line[\"city\"],\n",
    "        \"postcode\": line[\"postcode\"],\n",
    "        \"region\": line[\"region\"],\n",
    "        \"country_id\": line[\"country\"]\n",
    "    }"
   ]
  },
  {
   "cell_type": "code",
   "execution_count": 33,
   "metadata": {},
   "outputs": [],
   "source": [
    "reader = csv.DictReader(open('../data/20190226tokens.csv', 'rt', encoding=\"utf-8-sig\"))\n",
    "tokens = []\n",
    "TOKENS = []\n",
    "\n",
    "\n",
    "for line in reader:\n",
    "    customer_no = line['customer_no']\n",
    "    card_type = line['card_type']\n",
    "    card_name = line['card_name']\n",
    "    masked_number = line['masked_number']\n",
    "    token = line['token']\n",
    "    expiration_month = line['expiration_month']\n",
    "    expiration_year = line['expiration_year']\n",
    "    isDefault = line['default']\n",
    "    billing_address_id = line['billing_address_id']\n",
    "    \n",
    "    firstname = ''\n",
    "    lastname = ''\n",
    "    street = ''\n",
    "    city = ''\n",
    "    postcode = ''\n",
    "    region = ''\n",
    "    country_id = ''\n",
    "    \n",
    "    if billing_address_id in dict_addresses:\n",
    "        firstname = dict_addresses[billing_address_id]['firstname']\n",
    "        lastname =  dict_addresses[billing_address_id]['lastname']\n",
    "        street = dict_addresses[billing_address_id]['street']\n",
    "        city = dict_addresses[billing_address_id]['city']\n",
    "        postcode = dict_addresses[billing_address_id]['postcode']\n",
    "        region = dict_addresses[billing_address_id]['region']\n",
    "        country_id = dict_addresses[billing_address_id]['country_id']\n",
    "        \n",
    "    TOKENS.append({\n",
    "        \"customer_no\": customer_no,\n",
    "        \"card_type\": card_type,\n",
    "        \"card_name\": card_name,\n",
    "        \"masked_number\": masked_number,\n",
    "        \"token\": token,\n",
    "        \"expiration_month\": expiration_month,\n",
    "        \"expiration_year\": expiration_year,\n",
    "        \"isDefault\": isDefault,\n",
    "        \"billing_address_id\": billing_address_id,\n",
    "        \"firstname\": firstname,\n",
    "        \"lastname\": lastname,\n",
    "        \"street\": street,\n",
    "        \"address2\": \"\",\n",
    "        \"city\": city,\n",
    "        \"postcode\": postcode,\n",
    "        \"region\": region,\n",
    "        \"country_id\": country_id\n",
    "    })"
   ]
  },
  {
   "cell_type": "code",
   "execution_count": 34,
   "metadata": {},
   "outputs": [
    {
     "name": "stderr",
     "output_type": "stream",
     "text": [
      "IOPub data rate exceeded.\n",
      "The notebook server will temporarily stop sending output\n",
      "to the client in order to avoid crashing it.\n",
      "To change this limit, set the config variable\n",
      "`--NotebookApp.iopub_data_rate_limit`.\n",
      "\n",
      "Current values:\n",
      "NotebookApp.iopub_data_rate_limit=1000000.0 (bytes/sec)\n",
      "NotebookApp.rate_limit_window=3.0 (secs)\n",
      "\n"
     ]
    }
   ],
   "source": [
    "import time\n",
    "timestr = time.strftime(\"%Y%m%d%H%M%S\")\n",
    "\n",
    "print(TOKENS)\n",
    "\n",
    "with open('../data/tokens.csv', 'w') as csv_file:\n",
    "    writer = csv.writer(csv_file)\n",
    "    for data in TOKENS:\n",
    "        writer.writerow([\n",
    "            data[\"customer_no\"], \n",
    "            data[\"card_type\"],\n",
    "            data[\"card_name\"],\n",
    "            data[\"masked_number\"],\n",
    "            data[\"token\"],\n",
    "            data[\"expiration_month\"],\n",
    "            data[\"expiration_year\"],\n",
    "            data[\"isDefault\"],\n",
    "            data[\"billing_address_id\"],\n",
    "            data[\"firstname\"],\n",
    "            data[\"lastname\"],\n",
    "            data[\"street\"],\n",
    "            data[\"address2\"],\n",
    "            data[\"city\"],\n",
    "            data[\"postcode\"],\n",
    "            data[\"region\"],\n",
    "            data[\"country_id\"]\n",
    "        ])"
   ]
  },
  {
   "cell_type": "code",
   "execution_count": null,
   "metadata": {},
   "outputs": [],
   "source": []
  }
 ],
 "metadata": {
  "kernelspec": {
   "display_name": "Python 3",
   "language": "python",
   "name": "python3"
  },
  "language_info": {
   "codemirror_mode": {
    "name": "ipython",
    "version": 3
   },
   "file_extension": ".py",
   "mimetype": "text/x-python",
   "name": "python",
   "nbconvert_exporter": "python",
   "pygments_lexer": "ipython3",
   "version": "3.6.5"
  }
 },
 "nbformat": 4,
 "nbformat_minor": 2
}
