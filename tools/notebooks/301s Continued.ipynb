{
 "cells": [
  {
   "cell_type": "code",
   "execution_count": 1,
   "metadata": {},
   "outputs": [],
   "source": [
    "import csv\n",
    "import requests\n",
    "import re\n",
    "from lxml import etree as ET\n",
    "import asyncio"
   ]
  },
  {
   "cell_type": "code",
   "execution_count": 2,
   "metadata": {},
   "outputs": [],
   "source": [
    "tree = ET.parse('../data/kind-catalog.xml')\n",
    "root = tree.getroot()\n",
    "\n",
    "CATALOG = {\n",
    "    \"categories\": [],\n",
    "    \"products\": []\n",
    "}\n",
    "\n",
    "VARIANT_MASTER_MAP = {}\n",
    "\n",
    "for child in root:\n",
    "    if child.tag == \"product\":\n",
    "        master_id = child.attrib[\"product-id\"]\n",
    "        CATALOG[\"products\"].append(master_id)\n",
    "        \n",
    "        for children in child:\n",
    "            if children.tag == 'variations':\n",
    "                for variants in children[1]:\n",
    "                    variant_id = variants.attrib['product-id']\n",
    "                    VARIANT_MASTER_MAP[variant_id] = master_id\n",
    "                    \n",
    "storefront_tree = ET.parse('../data/kind-storefront.xml')\n",
    "storefront_root = tree.getroot()\n",
    "\n",
    "for child in root:\n",
    "    if child.tag == \"category\":\n",
    "        CATALOG[\"categories\"].append(child.attrib[\"category-id\"])\n",
    "    \n",
    "reader = csv.DictReader(open('../data/redirects.csv', 'rt', encoding=\"utf-8-sig\"))\n",
    "dict_urls = []\n",
    "for line in reader:\n",
    "    dict_urls.append(line)\n",
    "    \n",
    "reader = csv.DictReader(open('../data/product-redirects.csv', 'rt', encoding=\"utf-8-sig\"))\n",
    "dict_product = []\n",
    "for line in reader:\n",
    "    dict_product.append(line)\n",
    "    \n",
    "reader = csv.DictReader(open('../data/static_redirects.csv', 'rt', encoding=\"utf-8-sig\"))\n",
    "static_redirects = []\n",
    "for line in reader:\n",
    "    static_redirects.append(line)"
   ]
  },
  {
   "cell_type": "code",
   "execution_count": 27,
   "metadata": {},
   "outputs": [],
   "source": [
    "STATIC_REDIRECTS = []\n",
    "\n",
    "for redirect in static_redirects:\n",
    "    match_string = re.search('pid,(.*?)$', redirect['redirect'])\n",
    "    \n",
    "    if match_string != None:\n",
    "        if match_string.group(1) in VARIANT_MASTER_MAP:\n",
    "            re.sub('pid,(.*?)$', match_string.group(1), redirect['redirect'])\n",
    "        else:\n",
    "          continue\n",
    "    else:\n",
    "        STATIC_REDIRECTS.append(redirect['redirect'])"
   ]
  },
  {
   "cell_type": "code",
   "execution_count": 28,
   "metadata": {},
   "outputs": [],
   "source": [
    "with open('../data/remaining_static_redirects.csv', 'w') as csv_file:\n",
    "    writer = csv.writer(csv_file)\n",
    "    for redirect in STATIC_REDIRECTS:\n",
    "        writer.writerow([redirect])"
   ]
  },
  {
   "cell_type": "code",
   "execution_count": null,
   "metadata": {},
   "outputs": [],
   "source": []
  }
 ],
 "metadata": {
  "kernelspec": {
   "display_name": "Python 3",
   "language": "python",
   "name": "python3"
  },
  "language_info": {
   "codemirror_mode": {
    "name": "ipython",
    "version": 3
   },
   "file_extension": ".py",
   "mimetype": "text/x-python",
   "name": "python",
   "nbconvert_exporter": "python",
   "pygments_lexer": "ipython3",
   "version": "3.6.5"
  }
 },
 "nbformat": 4,
 "nbformat_minor": 2
}
